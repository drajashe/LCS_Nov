{
 "cells": [
  {
   "cell_type": "markdown",
   "metadata": {},
   "source": [
    "# EXPLORATORY DATA ANALYSIS\n",
    "Exploratory Data Analysis is an initial process of analysis, in which you can summarize characteristics of data such as pattern, trends, outliers, and hypothesis testing using descriptive statistics and visualization.\n"
   ]
  },
  {
   "cell_type": "code",
   "execution_count": 3,
   "metadata": {},
   "outputs": [
    {
     "name": "stderr",
     "output_type": "stream",
     "text": [
      "UsageError: Line magic function `%` not found.\n"
     ]
    }
   ],
   "source": [
    "#import modules\n",
    "import matplotlib.pyplot as plt # for plotting graphs\n",
    "import seaborn as sns # for plotting graphs\n",
    "% matplotlib inline\n",
    "import numpy\n"
   ]
  },
  {
   "cell_type": "code",
   "execution_count": 4,
   "metadata": {},
   "outputs": [],
   "source": [
    "import pandas\n",
    "data=pandas.read_csv('data/emp1_details.csv')"
   ]
  },
  {
   "cell_type": "code",
   "execution_count": 5,
   "metadata": {},
   "outputs": [
    {
     "data": {
      "text/html": [
       "<div>\n",
       "<style scoped>\n",
       "    .dataframe tbody tr th:only-of-type {\n",
       "        vertical-align: middle;\n",
       "    }\n",
       "\n",
       "    .dataframe tbody tr th {\n",
       "        vertical-align: top;\n",
       "    }\n",
       "\n",
       "    .dataframe thead th {\n",
       "        text-align: right;\n",
       "    }\n",
       "</style>\n",
       "<table border=\"1\" class=\"dataframe\">\n",
       "  <thead>\n",
       "    <tr style=\"text-align: right;\">\n",
       "      <th></th>\n",
       "      <th>Reliability</th>\n",
       "      <th>Responsibility</th>\n",
       "      <th>Accountability</th>\n",
       "      <th>Creativity</th>\n",
       "      <th>Quality</th>\n",
       "      <th>Speed</th>\n",
       "      <th>Expression</th>\n",
       "      <th>Posturing</th>\n",
       "      <th>Overall</th>\n",
       "    </tr>\n",
       "  </thead>\n",
       "  <tbody>\n",
       "    <tr>\n",
       "      <th>H</th>\n",
       "      <td>M</td>\n",
       "      <td>M</td>\n",
       "      <td>M</td>\n",
       "      <td>H</td>\n",
       "      <td>M</td>\n",
       "      <td>H</td>\n",
       "      <td>L</td>\n",
       "      <td>H</td>\n",
       "      <td>M</td>\n",
       "    </tr>\n",
       "    <tr>\n",
       "      <th>H</th>\n",
       "      <td>H</td>\n",
       "      <td>H</td>\n",
       "      <td>H</td>\n",
       "      <td>H</td>\n",
       "      <td>M</td>\n",
       "      <td>H</td>\n",
       "      <td>L</td>\n",
       "      <td>H</td>\n",
       "      <td>M</td>\n",
       "    </tr>\n",
       "    <tr>\n",
       "      <th>H</th>\n",
       "      <td>H</td>\n",
       "      <td>H</td>\n",
       "      <td>H</td>\n",
       "      <td>H</td>\n",
       "      <td>M</td>\n",
       "      <td>H</td>\n",
       "      <td>L</td>\n",
       "      <td>H</td>\n",
       "      <td>M</td>\n",
       "    </tr>\n",
       "    <tr>\n",
       "      <th>H</th>\n",
       "      <td>H</td>\n",
       "      <td>H</td>\n",
       "      <td>H</td>\n",
       "      <td>H</td>\n",
       "      <td>M</td>\n",
       "      <td>H</td>\n",
       "      <td>L</td>\n",
       "      <td>H</td>\n",
       "      <td>M</td>\n",
       "    </tr>\n",
       "    <tr>\n",
       "      <th>M</th>\n",
       "      <td>M</td>\n",
       "      <td>M</td>\n",
       "      <td>M</td>\n",
       "      <td>H</td>\n",
       "      <td>M</td>\n",
       "      <td>H</td>\n",
       "      <td>L</td>\n",
       "      <td>H</td>\n",
       "      <td>M</td>\n",
       "    </tr>\n",
       "  </tbody>\n",
       "</table>\n",
       "</div>"
      ],
      "text/plain": [
       "  Reliability Responsibility Accountability Creativity Quality Speed  \\\n",
       "H           M              M              M          H       M     H   \n",
       "H           H              H              H          H       M     H   \n",
       "H           H              H              H          H       M     H   \n",
       "H           H              H              H          H       M     H   \n",
       "M           M              M              M          H       M     H   \n",
       "\n",
       "  Expression Posturing Overall  \n",
       "H          L         H       M  \n",
       "H          L         H       M  \n",
       "H          L         H       M  \n",
       "H          L         H       M  \n",
       "M          L         H       M  "
      ]
     },
     "execution_count": 5,
     "metadata": {},
     "output_type": "execute_result"
    }
   ],
   "source": [
    "data.head()"
   ]
  },
  {
   "cell_type": "code",
   "execution_count": 6,
   "metadata": {},
   "outputs": [
    {
     "name": "stdout",
     "output_type": "stream",
     "text": [
      "<class 'pandas.core.frame.DataFrame'>\n",
      "Index: 10 entries, H to H\n",
      "Data columns (total 9 columns):\n",
      "Reliability       10 non-null object\n",
      "Responsibility    10 non-null object\n",
      "Accountability    10 non-null object\n",
      "Creativity        10 non-null object\n",
      "Quality           10 non-null object\n",
      "Speed             10 non-null object\n",
      "Expression        10 non-null object\n",
      "Posturing         10 non-null object\n",
      "Overall           10 non-null object\n",
      "dtypes: object(9)\n",
      "memory usage: 800.0+ bytes\n"
     ]
    }
   ],
   "source": [
    "data.info()"
   ]
  },
  {
   "cell_type": "markdown",
   "metadata": {},
   "source": [
    "## You can describe 10 attributes in detail as:\n",
    "\n",
    "- Reliability: It is employees Power of word - describing if he says what he means and means what he says- which ranges as H-High,M-Medium,L-Low.\n",
    "- Responsibility: Describes how committed an employee is - again scaled H-High,M-Medium,L-Low.\n",
    "- Accountability: How is he able to manage his time- H-High,M-Medium,L-Low.\n",
    "- Creativity: Is he a problem Solver - H-High,M-Medium,L-Low.\n",
    "- Quality: Effectiviness and sustainability of an employee - scaled on H-High,M-Medium,L-Low.\n",
    "- Speed: Measures the efficiency of an employee- scaled again on H-High,M-Medium,L-Low.\n",
    "- Expression: Perception management of an individual - scaled as H-High,M-Medium,L-Low.\n",
    "- Posturing: whether a person is a player, spectator, umpire, commenator in life\n",
    "- Overall: Overall feedback "
   ]
  },
  {
   "cell_type": "markdown",
   "metadata": {},
   "source": [
    "## FINDING SOME INSIGHTS FROM THIS DATA"
   ]
  },
  {
   "cell_type": "code",
   "execution_count": 7,
   "metadata": {},
   "outputs": [
    {
     "data": {
      "text/html": [
       "<div>\n",
       "<style scoped>\n",
       "    .dataframe tbody tr th:only-of-type {\n",
       "        vertical-align: middle;\n",
       "    }\n",
       "\n",
       "    .dataframe tbody tr th {\n",
       "        vertical-align: top;\n",
       "    }\n",
       "\n",
       "    .dataframe thead th {\n",
       "        text-align: right;\n",
       "    }\n",
       "</style>\n",
       "<table border=\"1\" class=\"dataframe\">\n",
       "  <thead>\n",
       "    <tr style=\"text-align: right;\">\n",
       "      <th></th>\n",
       "      <th>Reliability</th>\n",
       "      <th>Responsibility</th>\n",
       "      <th>Accountability</th>\n",
       "      <th>Creativity</th>\n",
       "      <th>Quality</th>\n",
       "      <th>Speed</th>\n",
       "      <th>Expression</th>\n",
       "      <th>Posturing</th>\n",
       "      <th>Overall</th>\n",
       "    </tr>\n",
       "  </thead>\n",
       "  <tbody>\n",
       "    <tr>\n",
       "      <th>count</th>\n",
       "      <td>10</td>\n",
       "      <td>10</td>\n",
       "      <td>10</td>\n",
       "      <td>10</td>\n",
       "      <td>10</td>\n",
       "      <td>10</td>\n",
       "      <td>10</td>\n",
       "      <td>10</td>\n",
       "      <td>10</td>\n",
       "    </tr>\n",
       "    <tr>\n",
       "      <th>unique</th>\n",
       "      <td>2</td>\n",
       "      <td>2</td>\n",
       "      <td>2</td>\n",
       "      <td>1</td>\n",
       "      <td>1</td>\n",
       "      <td>1</td>\n",
       "      <td>1</td>\n",
       "      <td>1</td>\n",
       "      <td>1</td>\n",
       "    </tr>\n",
       "    <tr>\n",
       "      <th>top</th>\n",
       "      <td>H</td>\n",
       "      <td>H</td>\n",
       "      <td>H</td>\n",
       "      <td>H</td>\n",
       "      <td>M</td>\n",
       "      <td>H</td>\n",
       "      <td>L</td>\n",
       "      <td>H</td>\n",
       "      <td>M</td>\n",
       "    </tr>\n",
       "    <tr>\n",
       "      <th>freq</th>\n",
       "      <td>5</td>\n",
       "      <td>6</td>\n",
       "      <td>8</td>\n",
       "      <td>10</td>\n",
       "      <td>10</td>\n",
       "      <td>10</td>\n",
       "      <td>10</td>\n",
       "      <td>10</td>\n",
       "      <td>10</td>\n",
       "    </tr>\n",
       "  </tbody>\n",
       "</table>\n",
       "</div>"
      ],
      "text/plain": [
       "       Reliability Responsibility Accountability Creativity Quality Speed  \\\n",
       "count           10             10             10         10      10    10   \n",
       "unique           2              2              2          1       1     1   \n",
       "top              H              H              H          H       M     H   \n",
       "freq             5              6              8         10      10    10   \n",
       "\n",
       "       Expression Posturing Overall  \n",
       "count          10        10      10  \n",
       "unique          1         1       1  \n",
       "top             L         H       M  \n",
       "freq           10        10      10  "
      ]
     },
     "execution_count": 7,
     "metadata": {},
     "output_type": "execute_result"
    }
   ],
   "source": [
    "data.describe()"
   ]
  },
  {
   "cell_type": "markdown",
   "metadata": {},
   "source": [
    "### Visualising the number of 'H' for the emplyee"
   ]
  },
  {
   "cell_type": "code",
   "execution_count": 8,
   "metadata": {},
   "outputs": [],
   "source": [
    "Total_feedbacks=data['Speed'].count()\n"
   ]
  },
  {
   "cell_type": "code",
   "execution_count": 9,
   "metadata": {},
   "outputs": [
    {
     "name": "stdout",
     "output_type": "stream",
     "text": [
      "10\n"
     ]
    }
   ],
   "source": [
    "print(Total_feedbacks)\n",
    "\n"
   ]
  },
  {
   "cell_type": "markdown",
   "metadata": {},
   "source": [
    "### creating different rows\n"
   ]
  },
  {
   "cell_type": "code",
   "execution_count": 10,
   "metadata": {},
   "outputs": [
    {
     "data": {
      "image/png": "[encoded data removed]",
      "text/plain": [
       "<Figure size 864x432 with 1 Axes>"
      ]
     },
     "metadata": {
      "needs_background": "light"
     },
     "output_type": "display_data"
    },
    {
     "data": {
      "image/png": "[encoded data removed]",
      "text/plain": [
       "<Figure size 864x432 with 1 Axes>"
      ]
     },
     "metadata": {
      "needs_background": "light"
     },
     "output_type": "display_data"
    },
    {
     "data": {
      "image/png": "[encoded data removed]",
      "text/plain": [
       "<Figure size 864x432 with 1 Axes>"
      ]
     },
     "metadata": {
      "needs_background": "light"
     },
     "output_type": "display_data"
    },
    {
     "data": {
      "image/png": "[encoded data removed]",
      "text/plain": [
       "<Figure size 864x432 with 1 Axes>"
      ]
     },
     "metadata": {
      "needs_background": "light"
     },
     "output_type": "display_data"
    },
    {
     "data": {
      "image/png": "[encoded data removed]",
      "text/plain": [
       "<Figure size 864x432 with 1 Axes>"
      ]
     },
     "metadata": {
      "needs_background": "light"
     },
     "output_type": "display_data"
    },
    {
     "data": {
      "image/png": "[encoded data removed]",
      "text/plain": [
       "<Figure size 864x432 with 1 Axes>"
      ]
     },
     "metadata": {
      "needs_background": "light"
     },
     "output_type": "display_data"
    }
   ],
   "source": [
    "\n",
    "#Transaction Date:\n",
    "\n",
    "#Now let us explore the date field. Let us first check the number of transactions in each month.\n",
    "\n",
    "\n",
    "cnt_srs = data['Reliability'].value_counts()\n",
    "plt.figure(figsize=(12,6))\n",
    "sns.barplot(cnt_srs.index, cnt_srs.values, alpha=0.8)\n",
    "plt.xticks(rotation='vertical')\n",
    "plt.xlabel('Rating based on (high medium or low))', fontsize=12)\n",
    "plt.ylabel('Reliability', fontsize=12)\n",
    "plt.show()\n",
    "\n",
    "\n",
    "cnt_srs = data['Responsibility'].value_counts()\n",
    "plt.figure(figsize=(12,6))\n",
    "sns.barplot(cnt_srs.index, cnt_srs.values, alpha=0.8)\n",
    "plt.xticks(rotation='vertical')\n",
    "plt.xlabel('Rating based on (high medium or low))', fontsize=12)\n",
    "plt.ylabel('responsibility', fontsize=12)\n",
    "plt.show()\n",
    "\n",
    "cnt_srs = data['Creativity'].value_counts()\n",
    "plt.figure(figsize=(12,6))\n",
    "sns.barplot(cnt_srs.index, cnt_srs.values, alpha=0.8)\n",
    "plt.xticks(rotation='vertical')\n",
    "plt.xlabel('Rating based on (high medium or low))', fontsize=12)\n",
    "plt.ylabel('Creativity', fontsize=12)\n",
    "plt.show()\n",
    "\n",
    "cnt_srs = data['Expression'].value_counts()\n",
    "plt.figure(figsize=(12,6))\n",
    "sns.barplot(cnt_srs.index, cnt_srs.values, alpha=0.8)\n",
    "plt.xticks(rotation='vertical')\n",
    "plt.xlabel('Rating based on (high medium or low))', fontsize=12)\n",
    "plt.ylabel('Expression', fontsize=12)\n",
    "plt.show()\n",
    "\n",
    "cnt_srs = data['Speed'].value_counts()\n",
    "plt.figure(figsize=(12,6))\n",
    "sns.barplot(cnt_srs.index, cnt_srs.values, alpha=0.8)\n",
    "plt.xticks(rotation='vertical')\n",
    "plt.xlabel('Rating based on (high medium or low))', fontsize=12)\n",
    "plt.ylabel('Speed', fontsize=12)\n",
    "plt.show()\n",
    "\n",
    "cnt_srs = data['Quality'].value_counts()\n",
    "plt.figure(figsize=(12,6))\n",
    "sns.barplot(cnt_srs.index, cnt_srs.values, alpha=0.8)\n",
    "plt.xticks(rotation='vertical')\n",
    "plt.xlabel('Rating based on (high medium or low))', fontsize=12)\n",
    "plt.ylabel('Quality', fontsize=12)\n",
    "plt.show()"
   ]
  },
  {
   "cell_type": "code",
   "execution_count": 11,
   "metadata": {},
   "outputs": [
    {
     "data": {
      "image/png": "[encoded data removed]",
      "text/plain": [
       "<Figure size 1080x1080 with 5 Axes>"
      ]
     },
     "metadata": {
      "needs_background": "light"
     },
     "output_type": "display_data"
    }
   ],
   "source": [
    "\n",
    "columns_name=['Reliability','Responsibility','Creativity','Quality','Speed']\n",
    "fig=plt.subplots(figsize=(15,15))\n",
    "for i, j in enumerate(columns_name):\n",
    "    plt.subplot(4, 2, i+1)\n",
    "    plt.subplots_adjust(hspace = 1.0)\n",
    "    sns.countplot(x=j,data = data)\n",
    "    plt.xticks(rotation=90)\n",
    "    plt.title(i)"
   ]
  },
  {
   "cell_type": "code",
   "execution_count": 12,
   "metadata": {},
   "outputs": [
    {
     "name": "stdout",
     "output_type": "stream",
     "text": [
      "<class 'pandas.core.frame.DataFrame'>\n",
      "Index: 10 entries, H to H\n",
      "Data columns (total 9 columns):\n",
      "Reliability       10 non-null object\n",
      "Responsibility    10 non-null object\n",
      "Accountability    10 non-null object\n",
      "Creativity        10 non-null object\n",
      "Quality           10 non-null object\n",
      "Speed             10 non-null object\n",
      "Expression        10 non-null object\n",
      "Posturing         10 non-null object\n",
      "Overall           10 non-null object\n",
      "dtypes: object(9)\n",
      "memory usage: 1.1+ KB\n"
     ]
    }
   ],
   "source": [
    "data.info()\n"
   ]
  },
  {
   "cell_type": "code",
   "execution_count": 13,
   "metadata": {},
   "outputs": [
    {
     "data": {
      "text/plain": [
       "['Reliability',\n",
       " 'Responsibility',\n",
       " 'Accountability',\n",
       " 'Creativity',\n",
       " 'Quality',\n",
       " 'Speed',\n",
       " 'Expression',\n",
       " 'Posturing',\n",
       " 'Overall']"
      ]
     },
     "execution_count": 13,
     "metadata": {},
     "output_type": "execute_result"
    }
   ],
   "source": [
    "categorical = []\n",
    "for column in data:\n",
    "    if data[column].dtype == 'object':\n",
    "        categorical.append(column)\n",
    "categorical"
   ]
  },
  {
   "cell_type": "code",
   "execution_count": 14,
   "metadata": {},
   "outputs": [
    {
     "data": {
      "text/plain": [
       "<matplotlib.axes._subplots.AxesSubplot at 0x120539bb0>"
      ]
     },
     "execution_count": 14,
     "metadata": {},
     "output_type": "execute_result"
    },
    {
     "data": {
      "image/png": "[encoded data removed]",
      "text/plain": [
       "<Figure size 432x288 with 2 Axes>"
      ]
     },
     "metadata": {
      "needs_background": "light"
     },
     "output_type": "display_data"
    }
   ],
   "source": [
    "sns.heatmap(data.isna())"
   ]
  },
  {
   "cell_type": "code",
   "execution_count": 371,
   "metadata": {},
   "outputs": [],
   "source": [
    "emp_details=pandas.read_csv('data/details_emp.csv')\n",
    "emp_details_final=emp_details"
   ]
  },
  {
   "cell_type": "code",
   "execution_count": 414,
   "metadata": {},
   "outputs": [
    {
     "data": {
      "text/html": [
       "<div>\n",
       "<style scoped>\n",
       "    .dataframe tbody tr th:only-of-type {\n",
       "        vertical-align: middle;\n",
       "    }\n",
       "\n",
       "    .dataframe tbody tr th {\n",
       "        vertical-align: top;\n",
       "    }\n",
       "\n",
       "    .dataframe thead th {\n",
       "        text-align: right;\n",
       "    }\n",
       "</style>\n",
       "<table border=\"1\" class=\"dataframe\">\n",
       "  <thead>\n",
       "    <tr style=\"text-align: right;\">\n",
       "      <th></th>\n",
       "      <th>Name</th>\n",
       "      <th>Designation</th>\n",
       "      <th>Role Played Currently</th>\n",
       "      <th>Reliability</th>\n",
       "      <th>Responsibility</th>\n",
       "      <th>Accountability</th>\n",
       "      <th>Creativity</th>\n",
       "      <th>Quality</th>\n",
       "      <th>Speed</th>\n",
       "      <th>Expression</th>\n",
       "      <th>Posturing</th>\n",
       "      <th>Overall</th>\n",
       "    </tr>\n",
       "  </thead>\n",
       "  <tbody>\n",
       "    <tr>\n",
       "      <th>0</th>\n",
       "      <td>PAVAN RAJ</td>\n",
       "      <td>RH</td>\n",
       "      <td>RETAIL SALES</td>\n",
       "      <td>H,H,H,H,H,M,H,H,H,H</td>\n",
       "      <td>M,H,H,H,H,M,H,H,M,H</td>\n",
       "      <td>M,H,H,H,M,M,M,M,H,H</td>\n",
       "      <td>M,H,H,H,M,M,M,H,M,H</td>\n",
       "      <td>M,H,H,H,H,M,H,H,H,H</td>\n",
       "      <td>M,H,M,L,M,M,H,H,M,H</td>\n",
       "      <td>M,H,M,L,M,M,H,H,H,H</td>\n",
       "      <td>UM,SP,UM,UM,PL,PL,UM,PL,PL,PL</td>\n",
       "      <td>M,T,G,G,G,M,G,T,T,T</td>\n",
       "    </tr>\n",
       "    <tr>\n",
       "      <th>1</th>\n",
       "      <td>SOMESH KARTICK</td>\n",
       "      <td>RETAIL DEALER</td>\n",
       "      <td>BROKING</td>\n",
       "      <td>H,H,H,M,H,M,H,H,M</td>\n",
       "      <td>H,H,M,M,H,H,H,H,H,H</td>\n",
       "      <td>H,H,M,M,M,M,H,M,H,H</td>\n",
       "      <td>H,H,H,L,L,L,H,M,M,M</td>\n",
       "      <td>H,H,H,M,M,H,H,M,M,M</td>\n",
       "      <td>H,H,M,L,M,M,M,M,M,M</td>\n",
       "      <td>H,H,H,L,L,L,H,H,M,M</td>\n",
       "      <td>UM,PL,CM,PL,PL,CM,CM,PL,PL,PL</td>\n",
       "      <td>T,T,T,T,G,G,T,T,T,T</td>\n",
       "    </tr>\n",
       "    <tr>\n",
       "      <th>2</th>\n",
       "      <td>SHRIDHARA K</td>\n",
       "      <td>DEALER</td>\n",
       "      <td>DEALING</td>\n",
       "      <td>M,M,M,M,H,H,H,M,M,M</td>\n",
       "      <td>L,M,M,M,M,M,M,M,M,M,M</td>\n",
       "      <td>H,H,L,M,L,L,L,L,M,H</td>\n",
       "      <td>M,L,L,M,L,L,L,M,M,H</td>\n",
       "      <td>L,M,L,H,M,M,M,M,M,H</td>\n",
       "      <td>L,M,M,M,H,H,H,M,M,M</td>\n",
       "      <td>L,M,M,M,M,M,M,M,M,M</td>\n",
       "      <td>SP,PL,PL,UM,UM,UM,UM,UM,PL,PL</td>\n",
       "      <td>T,T,T,T,G,G,G,G,T,T</td>\n",
       "    </tr>\n",
       "    <tr>\n",
       "      <th>3</th>\n",
       "      <td>RAGHAVENDRA R</td>\n",
       "      <td>DEALER</td>\n",
       "      <td>TRADING</td>\n",
       "      <td>H,H,H,H,M,H,M,M,M,M</td>\n",
       "      <td>H,M,L,M,M,M,M,H,M,H</td>\n",
       "      <td>M,H,L,H,M,M,M,M,H,M</td>\n",
       "      <td>H,L,L,L,L,M,L,L,M,M</td>\n",
       "      <td>M,H,H,H,H,M,M,H,H,M</td>\n",
       "      <td>L,M,L,M,M,L,L,M,H,H</td>\n",
       "      <td>M,L,M,M,L,M,M,M,H,M</td>\n",
       "      <td>CM,UM,CM,CM,CM,CM,UM,CM,UM,PL</td>\n",
       "      <td>M,T,T,T,T,T,M,M,M,M</td>\n",
       "    </tr>\n",
       "    <tr>\n",
       "      <th>4</th>\n",
       "      <td>PRASHANTH R</td>\n",
       "      <td>RELATIONSHIP MANAGER</td>\n",
       "      <td>NaN</td>\n",
       "      <td>H,H,H,H,H,H,H,M,M,H</td>\n",
       "      <td>H,H,H,M,M,M,M,M,H,H</td>\n",
       "      <td>H,H,H,H,H,M,M,M,H,H</td>\n",
       "      <td>H,H,H,M,L,M,L,L,H,H</td>\n",
       "      <td>H,H,H,H,H,H,L,L,H,H</td>\n",
       "      <td>H,H,H,M,M,H,L,L,H,H</td>\n",
       "      <td>H,H,H,L,L,M,M,M,H,H</td>\n",
       "      <td>PL,CM,UM,PL,UM,UM,SP,SP,SP</td>\n",
       "      <td>H,G,T,G,M,M,G,G,G,G</td>\n",
       "    </tr>\n",
       "    <tr>\n",
       "      <th>5</th>\n",
       "      <td>SUJATA NAYAK</td>\n",
       "      <td>SENIOR DEALER</td>\n",
       "      <td>REVNUE GENERATION</td>\n",
       "      <td>M,H,H,H,M,H,M</td>\n",
       "      <td>M,H,H,M,H,H,M</td>\n",
       "      <td>M,H,H,M,M,M,M</td>\n",
       "      <td>L,H,M,M,L,M,M</td>\n",
       "      <td>L,H,H,M,H,M,M</td>\n",
       "      <td>L,H,H,M,L,M,M</td>\n",
       "      <td>L,H,H,M,M,M,L,M</td>\n",
       "      <td>CM,CM,CM,CM,CM,CM,PL</td>\n",
       "      <td>T,G,T,T,T,M,T</td>\n",
       "    </tr>\n",
       "    <tr>\n",
       "      <th>6</th>\n",
       "      <td>PRUTHVI H</td>\n",
       "      <td>DEALER</td>\n",
       "      <td>NaN</td>\n",
       "      <td>M,M,H,M,M,M,L,M</td>\n",
       "      <td>L,H,H,M,M,M,M,M</td>\n",
       "      <td>M,M,M,M,M,M,L,M</td>\n",
       "      <td>L,L,L,M,M,M,L,L,</td>\n",
       "      <td>M,M,M,M,H,H,M,M</td>\n",
       "      <td>L,L,L,M,H,L,L,H</td>\n",
       "      <td>H,H,M,M,H,H,M,M</td>\n",
       "      <td>PL,PL,PL,PL,PL,PL,CM,PL</td>\n",
       "      <td>T,M,T,T,M,M,M,M</td>\n",
       "    </tr>\n",
       "    <tr>\n",
       "      <th>7</th>\n",
       "      <td>MUTHUPALANIYAPPAN C</td>\n",
       "      <td>SENIOR DEALER</td>\n",
       "      <td>RELATIONSHIP MANAGER</td>\n",
       "      <td>M,M,M,M,L,M,M,H</td>\n",
       "      <td>M,M,M,H,H,H,L,H</td>\n",
       "      <td>M,M,M,M,M,M,M,H</td>\n",
       "      <td>M,H,M,M,M,L,L,H</td>\n",
       "      <td>L,M,M,H,L,L,L,H</td>\n",
       "      <td>H,M,M,H,L,M,M,H</td>\n",
       "      <td>M,L,L,L,M,L,L,H</td>\n",
       "      <td>PL,CM,CM,SP,SP,CM,PL,PL</td>\n",
       "      <td>M,T,T,M,G,M,M,M</td>\n",
       "    </tr>\n",
       "    <tr>\n",
       "      <th>8</th>\n",
       "      <td>RAJESH PRABHU</td>\n",
       "      <td>DEALER</td>\n",
       "      <td>RELATIONSHIP MANGAER</td>\n",
       "      <td>M,M,H,H,H,H,H,M</td>\n",
       "      <td>M,H,M,H,M,M,M,M</td>\n",
       "      <td>M,H,M,H,H,M,M,M</td>\n",
       "      <td>M,M,M,H,H,H,H,H</td>\n",
       "      <td>M,M,H,H,M,M,M,H</td>\n",
       "      <td>L,L,M,M,M,M,M,M</td>\n",
       "      <td>L,L,L,L,L,L,L,M</td>\n",
       "      <td>SP,SP,SP,SP,SP,SP,SP,SP</td>\n",
       "      <td>T,T,T,G,G,T,G,G</td>\n",
       "    </tr>\n",
       "  </tbody>\n",
       "</table>\n",
       "</div>"
      ],
      "text/plain": [
       "                  Name           Designation Role Played Currently  \\\n",
       "0            PAVAN RAJ                    RH          RETAIL SALES   \n",
       "1       SOMESH KARTICK         RETAIL DEALER               BROKING   \n",
       "2          SHRIDHARA K                DEALER               DEALING   \n",
       "3        RAGHAVENDRA R                DEALER               TRADING   \n",
       "4          PRASHANTH R  RELATIONSHIP MANAGER                   NaN   \n",
       "5         SUJATA NAYAK         SENIOR DEALER     REVNUE GENERATION   \n",
       "6           PRUTHVI H                 DEALER                   NaN   \n",
       "7  MUTHUPALANIYAPPAN C         SENIOR DEALER  RELATIONSHIP MANAGER   \n",
       "8        RAJESH PRABHU                DEALER  RELATIONSHIP MANGAER   \n",
       "\n",
       "           Reliability         Responsibility       Accountability  \\\n",
       "0  H,H,H,H,H,M,H,H,H,H    M,H,H,H,H,M,H,H,M,H  M,H,H,H,M,M,M,M,H,H   \n",
       "1    H,H,H,M,H,M,H,H,M    H,H,M,M,H,H,H,H,H,H  H,H,M,M,M,M,H,M,H,H   \n",
       "2  M,M,M,M,H,H,H,M,M,M  L,M,M,M,M,M,M,M,M,M,M  H,H,L,M,L,L,L,L,M,H   \n",
       "3  H,H,H,H,M,H,M,M,M,M    H,M,L,M,M,M,M,H,M,H  M,H,L,H,M,M,M,M,H,M   \n",
       "4  H,H,H,H,H,H,H,M,M,H    H,H,H,M,M,M,M,M,H,H  H,H,H,H,H,M,M,M,H,H   \n",
       "5        M,H,H,H,M,H,M          M,H,H,M,H,H,M        M,H,H,M,M,M,M   \n",
       "6      M,M,H,M,M,M,L,M        L,H,H,M,M,M,M,M      M,M,M,M,M,M,L,M   \n",
       "7      M,M,M,M,L,M,M,H        M,M,M,H,H,H,L,H      M,M,M,M,M,M,M,H   \n",
       "8      M,M,H,H,H,H,H,M        M,H,M,H,M,M,M,M      M,H,M,H,H,M,M,M   \n",
       "\n",
       "            Creativity              Quality                Speed  \\\n",
       "0  M,H,H,H,M,M,M,H,M,H  M,H,H,H,H,M,H,H,H,H  M,H,M,L,M,M,H,H,M,H   \n",
       "1  H,H,H,L,L,L,H,M,M,M  H,H,H,M,M,H,H,M,M,M  H,H,M,L,M,M,M,M,M,M   \n",
       "2  M,L,L,M,L,L,L,M,M,H  L,M,L,H,M,M,M,M,M,H  L,M,M,M,H,H,H,M,M,M   \n",
       "3  H,L,L,L,L,M,L,L,M,M  M,H,H,H,H,M,M,H,H,M  L,M,L,M,M,L,L,M,H,H   \n",
       "4  H,H,H,M,L,M,L,L,H,H  H,H,H,H,H,H,L,L,H,H  H,H,H,M,M,H,L,L,H,H   \n",
       "5        L,H,M,M,L,M,M        L,H,H,M,H,M,M        L,H,H,M,L,M,M   \n",
       "6     L,L,L,M,M,M,L,L,      M,M,M,M,H,H,M,M      L,L,L,M,H,L,L,H   \n",
       "7      M,H,M,M,M,L,L,H      L,M,M,H,L,L,L,H      H,M,M,H,L,M,M,H   \n",
       "8      M,M,M,H,H,H,H,H      M,M,H,H,M,M,M,H      L,L,M,M,M,M,M,M   \n",
       "\n",
       "            Expression                      Posturing              Overall  \n",
       "0  M,H,M,L,M,M,H,H,H,H  UM,SP,UM,UM,PL,PL,UM,PL,PL,PL  M,T,G,G,G,M,G,T,T,T  \n",
       "1  H,H,H,L,L,L,H,H,M,M  UM,PL,CM,PL,PL,CM,CM,PL,PL,PL  T,T,T,T,G,G,T,T,T,T  \n",
       "2  L,M,M,M,M,M,M,M,M,M  SP,PL,PL,UM,UM,UM,UM,UM,PL,PL  T,T,T,T,G,G,G,G,T,T  \n",
       "3  M,L,M,M,L,M,M,M,H,M  CM,UM,CM,CM,CM,CM,UM,CM,UM,PL  M,T,T,T,T,T,M,M,M,M  \n",
       "4  H,H,H,L,L,M,M,M,H,H     PL,CM,UM,PL,UM,UM,SP,SP,SP  H,G,T,G,M,M,G,G,G,G  \n",
       "5      L,H,H,M,M,M,L,M           CM,CM,CM,CM,CM,CM,PL        T,G,T,T,T,M,T  \n",
       "6      H,H,M,M,H,H,M,M        PL,PL,PL,PL,PL,PL,CM,PL      T,M,T,T,M,M,M,M  \n",
       "7      M,L,L,L,M,L,L,H        PL,CM,CM,SP,SP,CM,PL,PL      M,T,T,M,G,M,M,M  \n",
       "8      L,L,L,L,L,L,L,M        SP,SP,SP,SP,SP,SP,SP,SP      T,T,T,G,G,T,G,G  "
      ]
     },
     "execution_count": 414,
     "metadata": {},
     "output_type": "execute_result"
    }
   ],
   "source": [
    "emp_details"
   ]
  },
  {
   "cell_type": "code",
   "execution_count": 373,
   "metadata": {},
   "outputs": [
    {
     "name": "stdout",
     "output_type": "stream",
     "text": [
      "M,H,M,L,M,M,H,H,M,H\n"
     ]
    }
   ],
   "source": [
    "print(emp_details.Speed[0])"
   ]
  },
  {
   "cell_type": "markdown",
   "metadata": {},
   "source": [
    "### To retrieve the average rating for each category\n",
    "\n"
   ]
  },
  {
   "cell_type": "code",
   "execution_count": 374,
   "metadata": {},
   "outputs": [],
   "source": [
    "import statistics \n",
    "  \n",
    "required_categories=[]\n",
    "\n",
    "emp_name_n_details= emp_details.loc[:, 'Name':'Role Played Currently']\n",
    "\n",
    "required_categories = emp_details.loc[:,'Reliability':'Overall']\n",
    "number_of_employee=10"
   ]
  },
  {
   "cell_type": "code",
   "execution_count": 375,
   "metadata": {},
   "outputs": [
    {
     "name": "stdout",
     "output_type": "stream",
     "text": [
      "           Reliability         Responsibility       Accountability  \\\n",
      "0  H,H,H,H,H,M,H,H,H,H    M,H,H,H,H,M,H,H,M,H  M,H,H,H,M,M,M,M,H,H   \n",
      "1    H,H,H,M,H,M,H,H,M    H,H,M,M,H,H,H,H,H,H  H,H,M,M,M,M,H,M,H,H   \n",
      "2  M,M,M,M,H,H,H,M,M,M  L,M,M,M,M,M,M,M,M,M,M  H,H,L,M,L,L,L,L,M,H   \n",
      "3  H,H,H,H,M,H,M,M,M,M    H,M,L,M,M,M,M,H,M,H  M,H,L,H,M,M,M,M,H,M   \n",
      "4  H,H,H,H,H,H,H,M,M,H    H,H,H,M,M,M,M,M,H,H  H,H,H,H,H,M,M,M,H,H   \n",
      "5        M,H,H,H,M,H,M          M,H,H,M,H,H,M        M,H,H,M,M,M,M   \n",
      "6      M,M,H,M,M,M,L,M        L,H,H,M,M,M,M,M      M,M,M,M,M,M,L,M   \n",
      "7      M,M,M,M,L,M,M,H        M,M,M,H,H,H,L,H      M,M,M,M,M,M,M,H   \n",
      "8      M,M,H,H,H,H,H,M        M,H,M,H,M,M,M,M      M,H,M,H,H,M,M,M   \n",
      "\n",
      "            Creativity              Quality                Speed  \\\n",
      "0  M,H,H,H,M,M,M,H,M,H  M,H,H,H,H,M,H,H,H,H  M,H,M,L,M,M,H,H,M,H   \n",
      "1  H,H,H,L,L,L,H,M,M,M  H,H,H,M,M,H,H,M,M,M  H,H,M,L,M,M,M,M,M,M   \n",
      "2  M,L,L,M,L,L,L,M,M,H  L,M,L,H,M,M,M,M,M,H  L,M,M,M,H,H,H,M,M,M   \n",
      "3  H,L,L,L,L,M,L,L,M,M  M,H,H,H,H,M,M,H,H,M  L,M,L,M,M,L,L,M,H,H   \n",
      "4  H,H,H,M,L,M,L,L,H,H  H,H,H,H,H,H,L,L,H,H  H,H,H,M,M,H,L,L,H,H   \n",
      "5        L,H,M,M,L,M,M        L,H,H,M,H,M,M        L,H,H,M,L,M,M   \n",
      "6     L,L,L,M,M,M,L,L,      M,M,M,M,H,H,M,M      L,L,L,M,H,L,L,H   \n",
      "7      M,H,M,M,M,L,L,H      L,M,M,H,L,L,L,H      H,M,M,H,L,M,M,H   \n",
      "8      M,M,M,H,H,H,H,H      M,M,H,H,M,M,M,H      L,L,M,M,M,M,M,M   \n",
      "\n",
      "            Expression                      Posturing              Overall  \n",
      "0  M,H,M,L,M,M,H,H,H,H  UM,SP,UM,UM,PL,PL,UM,PL,PL,PL  M,T,G,G,G,M,G,T,T,T  \n",
      "1  H,H,H,L,L,L,H,H,M,M  UM,PL,CM,PL,PL,CM,CM,PL,PL,PL  T,T,T,T,G,G,T,T,T,T  \n",
      "2  L,M,M,M,M,M,M,M,M,M  SP,PL,PL,UM,UM,UM,UM,UM,PL,PL  T,T,T,T,G,G,G,G,T,T  \n",
      "3  M,L,M,M,L,M,M,M,H,M  CM,UM,CM,CM,CM,CM,UM,CM,UM,PL  M,T,T,T,T,T,M,M,M,M  \n",
      "4  H,H,H,L,L,M,M,M,H,H     PL,CM,UM,PL,UM,UM,SP,SP,SP  H,G,T,G,M,M,G,G,G,G  \n",
      "5      L,H,H,M,M,M,L,M           CM,CM,CM,CM,CM,CM,PL        T,G,T,T,T,M,T  \n",
      "6      H,H,M,M,H,H,M,M        PL,PL,PL,PL,PL,PL,CM,PL      T,M,T,T,M,M,M,M  \n",
      "7      M,L,L,L,M,L,L,H        PL,CM,CM,SP,SP,CM,PL,PL      M,T,T,M,G,M,M,M  \n",
      "8      L,L,L,L,L,L,L,M        SP,SP,SP,SP,SP,SP,SP,SP      T,T,T,G,G,T,G,G  \n",
      "                  Name           Designation Role Played Currently\n",
      "0            PAVAN RAJ                    RH          RETAIL SALES\n",
      "1       SOMESH KARTICK         RETAIL DEALER               BROKING\n",
      "2          SHRIDHARA K                DEALER               DEALING\n",
      "3        RAGHAVENDRA R                DEALER               TRADING\n",
      "4          PRASHANTH R  RELATIONSHIP MANAGER                   NaN\n",
      "5         SUJATA NAYAK         SENIOR DEALER     REVNUE GENERATION\n",
      "6           PRUTHVI H                 DEALER                   NaN\n",
      "7  MUTHUPALANIYAPPAN C         SENIOR DEALER  RELATIONSHIP MANAGER\n",
      "8        RAJESH PRABHU                DEALER  RELATIONSHIP MANGAER\n"
     ]
    }
   ],
   "source": [
    "print(required_categories)\n",
    "print(emp_name_n_details)\n"
   ]
  },
  {
   "cell_type": "code",
   "execution_count": 376,
   "metadata": {},
   "outputs": [],
   "source": [
    "det_emp=[]\n",
    "main_mode_val=[]\n",
    "mode_=\"\"\n",
    "from scipy import stats\n",
    "main_mode_val=[]\n",
    "for i in required_categories:\n",
    "    det_emp=[]\n",
    "    for j in required_categories[i]:\n",
    "        det_emp.append(stats.mode(j.split(\",\"))[0][0])\n",
    "    main_mode_val.append(det_emp)\n",
    "        \n",
    "        "
   ]
  },
  {
   "cell_type": "code",
   "execution_count": 383,
   "metadata": {},
   "outputs": [],
   "source": [
    "category_columns = pandas.DataFrame(main_mode_val)\n",
    "#df = df.transpose()\n",
    "category_columns=(category_columns.transpose())"
   ]
  },
  {
   "cell_type": "code",
   "execution_count": 384,
   "metadata": {},
   "outputs": [
    {
     "name": "stdout",
     "output_type": "stream",
     "text": [
      "   0  1  2  3  4  5  6   7  8\n",
      "0  H  H  H  H  H  M  H  PL  G\n",
      "1  H  H  H  H  H  M  H  PL  T\n",
      "2  M  M  L  L  M  M  M  UM  T\n",
      "3  H  M  M  L  H  L  M  CM  M\n",
      "4  H  H  H  H  H  H  H  SP  G\n",
      "5  H  H  M  M  H  M  M  CM  T\n",
      "6  M  M  M  L  M  L  H  PL  M\n",
      "7  M  H  M  M  L  M  L  CM  M\n",
      "8  H  M  M  H  M  M  L  SP  G\n"
     ]
    }
   ],
   "source": [
    "print(category_columns)"
   ]
  },
  {
   "cell_type": "code",
   "execution_count": 385,
   "metadata": {},
   "outputs": [],
   "source": [
    "category_columns.columns=required_categories.columns"
   ]
  },
  {
   "cell_type": "code",
   "execution_count": 409,
   "metadata": {},
   "outputs": [],
   "source": [
    "newdf=emp_name_n_details.join(category_columns)"
   ]
  },
  {
   "cell_type": "code",
   "execution_count": 411,
   "metadata": {},
   "outputs": [
    {
     "name": "stdout",
     "output_type": "stream",
     "text": [
      "                  Name           Designation Role Played Currently  \\\n",
      "0            PAVAN RAJ                    RH          RETAIL SALES   \n",
      "1       SOMESH KARTICK         RETAIL DEALER               BROKING   \n",
      "2          SHRIDHARA K                DEALER               DEALING   \n",
      "3        RAGHAVENDRA R                DEALER               TRADING   \n",
      "4          PRASHANTH R  RELATIONSHIP MANAGER                   NaN   \n",
      "5         SUJATA NAYAK         SENIOR DEALER     REVNUE GENERATION   \n",
      "6           PRUTHVI H                 DEALER                   NaN   \n",
      "7  MUTHUPALANIYAPPAN C         SENIOR DEALER  RELATIONSHIP MANAGER   \n",
      "8        RAJESH PRABHU                DEALER  RELATIONSHIP MANGAER   \n",
      "\n",
      "  Reliability Responsibility Accountability Creativity Quality Speed  \\\n",
      "0           H              H              H          H       H     M   \n",
      "1           H              H              H          H       H     M   \n",
      "2           M              M              L          L       M     M   \n",
      "3           H              M              M          L       H     L   \n",
      "4           H              H              H          H       H     H   \n",
      "5           H              H              M          M       H     M   \n",
      "6           M              M              M          L       M     L   \n",
      "7           M              H              M          M       L     M   \n",
      "8           H              M              M          H       M     M   \n",
      "\n",
      "  Expression Posturing Overall  \n",
      "0          H        PL       G  \n",
      "1          H        PL       T  \n",
      "2          M        UM       T  \n",
      "3          M        CM       M  \n",
      "4          H        SP       G  \n",
      "5          M        CM       T  \n",
      "6          H        PL       M  \n",
      "7          L        CM       M  \n",
      "8          L        SP       G  \n"
     ]
    }
   ],
   "source": [
    "print(newdf)"
   ]
  },
  {
   "cell_type": "code",
   "execution_count": 415,
   "metadata": {},
   "outputs": [],
   "source": [
    "newdf.to_csv('data/file1.csv')"
   ]
  },
  {
   "cell_type": "code",
   "execution_count": 3,
   "metadata": {},
   "outputs": [],
   "source": [
    " #Load libraries\n",
    "import pandas as pd\n"
   ]
  },
  {
   "cell_type": "code",
   "execution_count": 2,
   "metadata": {},
   "outputs": [
    {
     "ename": "ModuleNotFoundError",
     "evalue": "No module named 'sklearn'",
     "output_type": "error",
     "traceback": [
      "\u001b[0;31m---------------------------------------------------------------------------\u001b[0m",
      "\u001b[0;31mModuleNotFoundError\u001b[0m                       Traceback (most recent call last)",
      "\u001b[0;32m<ipython-input-2-da9f9474b4bf>\u001b[0m in \u001b[0;36m<module>\u001b[0;34m\u001b[0m\n\u001b[1;32m      1\u001b[0m \u001b[0;31m# Load libraries\u001b[0m\u001b[0;34m\u001b[0m\u001b[0;34m\u001b[0m\u001b[0;34m\u001b[0m\u001b[0m\n\u001b[1;32m      2\u001b[0m \u001b[0;32mimport\u001b[0m \u001b[0mpandas\u001b[0m \u001b[0;32mas\u001b[0m \u001b[0mpd\u001b[0m\u001b[0;34m\u001b[0m\u001b[0;34m\u001b[0m\u001b[0m\n\u001b[0;32m----> 3\u001b[0;31m \u001b[0;32mfrom\u001b[0m \u001b[0msklearn\u001b[0m\u001b[0;34m.\u001b[0m\u001b[0mtree\u001b[0m \u001b[0;32mimport\u001b[0m \u001b[0mDecisionTreeClassifier\u001b[0m \u001b[0;31m# Import Decision Tree Classifier\u001b[0m\u001b[0;34m\u001b[0m\u001b[0;34m\u001b[0m\u001b[0m\n\u001b[0m\u001b[1;32m      4\u001b[0m \u001b[0;31m# from scikitlearn.model_selection import train_test_split # Import train_test_split function\u001b[0m\u001b[0;34m\u001b[0m\u001b[0;34m\u001b[0m\u001b[0;34m\u001b[0m\u001b[0m\n\u001b[1;32m      5\u001b[0m \u001b[0;31m# from scikit-learn import metrics #Import scikit-learn metrics module for accuracy calculation\u001b[0m\u001b[0;34m\u001b[0m\u001b[0;34m\u001b[0m\u001b[0;34m\u001b[0m\u001b[0m\n",
      "\u001b[0;31mModuleNotFoundError\u001b[0m: No module named 'sklearn'"
     ]
    }
   ],
   "source": [
    "# Load libraries\n",
    "import pandas as pd\n",
    "from sklearn.tree import DecisionTreeClassifier # Import Decision Tree Classifier\n",
    "# from scikitlearn.model_selection import train_test_split # Import train_test_split function\n",
    "# from scikit-learn import metrics #Import scikit-learn metrics module for accuracy calculation"
   ]
  },
  {
   "cell_type": "code",
   "execution_count": null,
   "metadata": {},
   "outputs": [],
   "source": []
  }
 ],
 "metadata": {
  "kernelspec": {
   "display_name": "Python 3",
   "language": "python",
   "name": "python3"
  },
  "language_info": {
   "codemirror_mode": {
    "name": "ipython",
    "version": 3
   },
   "file_extension": ".py",
   "mimetype": "text/x-python",
   "name": "python",
   "nbconvert_exporter": "python",
   "pygments_lexer": "ipython3",
   "version": "3.8.0"
  }
 },
 "nbformat": 4,
 "nbformat_minor": 2
}
